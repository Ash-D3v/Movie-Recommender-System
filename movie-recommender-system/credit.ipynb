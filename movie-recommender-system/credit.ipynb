{
 "cells": [
  {
   "cell_type": "code",
   "execution_count": 1,
   "id": "d8ac40de-ba04-4b64-82e4-efb07aaa3973",
   "metadata": {},
   "outputs": [],
   "source": [
    "import pandas as pd\n",
    "import json\n",
    "from ipywidgets import widgets, Button\n",
    "from IPython.display import display, clear_output\n"
   ]
  },
  {
   "cell_type": "code",
   "execution_count": 2,
   "id": "446f039a-9868-4356-bc8a-ea0cc0232e32",
   "metadata": {},
   "outputs": [
    {
     "name": "stdout",
     "output_type": "stream",
     "text": [
      "Defaulting to user installation because normal site-packages is not writeable\n",
      "Requirement already satisfied: ipywidgets in /home/ashu/.local/lib/python3.9/site-packages (8.1.5)\n",
      "Requirement already satisfied: widgetsnbextension~=4.0.12 in /home/ashu/.local/lib/python3.9/site-packages (from ipywidgets) (4.0.13)\n",
      "Requirement already satisfied: comm>=0.1.3 in /home/ashu/.local/lib/python3.9/site-packages (from ipywidgets) (0.2.2)\n",
      "Requirement already satisfied: ipython>=6.1.0 in /home/ashu/.local/lib/python3.9/site-packages (from ipywidgets) (8.18.1)\n",
      "Requirement already satisfied: traitlets>=4.3.1 in /home/ashu/.local/lib/python3.9/site-packages (from ipywidgets) (5.14.3)\n",
      "Requirement already satisfied: jupyterlab-widgets~=3.0.12 in /home/ashu/.local/lib/python3.9/site-packages (from ipywidgets) (3.0.13)\n",
      "Requirement already satisfied: matplotlib-inline in /home/ashu/.local/lib/python3.9/site-packages (from ipython>=6.1.0->ipywidgets) (0.1.7)\n",
      "Requirement already satisfied: decorator in /home/ashu/.local/lib/python3.9/site-packages (from ipython>=6.1.0->ipywidgets) (5.1.1)\n",
      "Requirement already satisfied: exceptiongroup in /home/ashu/.local/lib/python3.9/site-packages (from ipython>=6.1.0->ipywidgets) (1.2.2)\n",
      "Requirement already satisfied: pygments>=2.4.0 in /home/ashu/.local/lib/python3.9/site-packages (from ipython>=6.1.0->ipywidgets) (2.18.0)\n",
      "Requirement already satisfied: typing-extensions in /home/ashu/.local/lib/python3.9/site-packages (from ipython>=6.1.0->ipywidgets) (4.12.2)\n",
      "Requirement already satisfied: jedi>=0.16 in /home/ashu/.local/lib/python3.9/site-packages (from ipython>=6.1.0->ipywidgets) (0.19.1)\n",
      "Requirement already satisfied: stack-data in /home/ashu/.local/lib/python3.9/site-packages (from ipython>=6.1.0->ipywidgets) (0.6.3)\n",
      "Requirement already satisfied: prompt-toolkit<3.1.0,>=3.0.41 in /home/ashu/.local/lib/python3.9/site-packages (from ipython>=6.1.0->ipywidgets) (3.0.47)\n",
      "Requirement already satisfied: pexpect>4.3 in /usr/lib/python3.9/site-packages (from ipython>=6.1.0->ipywidgets) (4.8.0)\n",
      "Requirement already satisfied: parso<0.9.0,>=0.8.3 in /home/ashu/.local/lib/python3.9/site-packages (from jedi>=0.16->ipython>=6.1.0->ipywidgets) (0.8.4)\n",
      "Requirement already satisfied: wcwidth in /home/ashu/.local/lib/python3.9/site-packages (from prompt-toolkit<3.1.0,>=3.0.41->ipython>=6.1.0->ipywidgets) (0.2.13)\n",
      "Requirement already satisfied: pure-eval in /home/ashu/.local/lib/python3.9/site-packages (from stack-data->ipython>=6.1.0->ipywidgets) (0.2.3)\n",
      "Requirement already satisfied: executing>=1.2.0 in /home/ashu/.local/lib/python3.9/site-packages (from stack-data->ipython>=6.1.0->ipywidgets) (2.0.1)\n",
      "Requirement already satisfied: asttokens>=2.1.0 in /home/ashu/.local/lib/python3.9/site-packages (from stack-data->ipython>=6.1.0->ipywidgets) (2.4.1)\n",
      "Requirement already satisfied: six>=1.12.0 in /usr/lib/python3.9/site-packages (from asttokens>=2.1.0->stack-data->ipython>=6.1.0->ipywidgets) (1.15.0)\n",
      "\u001b[33mWARNING: Value for scheme.platlib does not match. Please report this to <https://github.com/pypa/pip/issues/10151>\n",
      "distutils: /home/ashu/.local/lib/python3.9/site-packages\n",
      "sysconfig: /home/ashu/.local/lib64/python3.9/site-packages\u001b[0m\n",
      "\u001b[33mWARNING: Additional context:\n",
      "user = True\n",
      "home = None\n",
      "root = None\n",
      "prefix = None\u001b[0m\n",
      "Note: you may need to restart the kernel to use updated packages.\n"
     ]
    }
   ],
   "source": [
    "pip install ipywidgets\n"
   ]
  },
  {
   "cell_type": "code",
   "execution_count": 3,
   "id": "d0350118-5da2-4243-a6b6-78fbae7c064a",
   "metadata": {},
   "outputs": [],
   "source": [
    "def load_data(file_path):\n",
    "    df = pd.read_csv(file_path)\n",
    "    return df"
   ]
  },
  {
   "cell_type": "code",
   "execution_count": 4,
   "id": "79c3ad70-6a8b-4a42-b815-f2b33b45d17b",
   "metadata": {},
   "outputs": [],
   "source": [
    "def get_movie_credits(movie_id, df):\n",
    "    movie = df[df['movie_id'] == movie_id]\n",
    "    if movie.empty:\n",
    "        return \"Movie not found\"\n",
    "    \n",
    "    credits = json.loads(movie['cast'].iloc[0])\n",
    "    return credits"
   ]
  },
  {
   "cell_type": "code",
   "execution_count": 5,
   "id": "61360be3-8de0-4804-bded-3f58025bb01f",
   "metadata": {},
   "outputs": [
    {
     "data": {
      "text/html": [
       "<div>\n",
       "<style scoped>\n",
       "    .dataframe tbody tr th:only-of-type {\n",
       "        vertical-align: middle;\n",
       "    }\n",
       "\n",
       "    .dataframe tbody tr th {\n",
       "        vertical-align: top;\n",
       "    }\n",
       "\n",
       "    .dataframe thead th {\n",
       "        text-align: right;\n",
       "    }\n",
       "</style>\n",
       "<table border=\"1\" class=\"dataframe\">\n",
       "  <thead>\n",
       "    <tr style=\"text-align: right;\">\n",
       "      <th></th>\n",
       "      <th>movie_id</th>\n",
       "      <th>title</th>\n",
       "      <th>cast</th>\n",
       "      <th>crew</th>\n",
       "    </tr>\n",
       "  </thead>\n",
       "  <tbody>\n",
       "    <tr>\n",
       "      <th>0</th>\n",
       "      <td>19995</td>\n",
       "      <td>Avatar</td>\n",
       "      <td>[{\"cast_id\": 242, \"character\": \"Jake Sully\", \"...</td>\n",
       "      <td>[{\"credit_id\": \"52fe48009251416c750aca23\", \"de...</td>\n",
       "    </tr>\n",
       "    <tr>\n",
       "      <th>1</th>\n",
       "      <td>285</td>\n",
       "      <td>Pirates of the Caribbean: At World's End</td>\n",
       "      <td>[{\"cast_id\": 4, \"character\": \"Captain Jack Spa...</td>\n",
       "      <td>[{\"credit_id\": \"52fe4232c3a36847f800b579\", \"de...</td>\n",
       "    </tr>\n",
       "    <tr>\n",
       "      <th>2</th>\n",
       "      <td>206647</td>\n",
       "      <td>Spectre</td>\n",
       "      <td>[{\"cast_id\": 1, \"character\": \"James Bond\", \"cr...</td>\n",
       "      <td>[{\"credit_id\": \"54805967c3a36829b5002c41\", \"de...</td>\n",
       "    </tr>\n",
       "    <tr>\n",
       "      <th>3</th>\n",
       "      <td>49026</td>\n",
       "      <td>The Dark Knight Rises</td>\n",
       "      <td>[{\"cast_id\": 2, \"character\": \"Bruce Wayne / Ba...</td>\n",
       "      <td>[{\"credit_id\": \"52fe4781c3a36847f81398c3\", \"de...</td>\n",
       "    </tr>\n",
       "    <tr>\n",
       "      <th>4</th>\n",
       "      <td>49529</td>\n",
       "      <td>John Carter</td>\n",
       "      <td>[{\"cast_id\": 5, \"character\": \"John Carter\", \"c...</td>\n",
       "      <td>[{\"credit_id\": \"52fe479ac3a36847f813eaa3\", \"de...</td>\n",
       "    </tr>\n",
       "  </tbody>\n",
       "</table>\n",
       "</div>"
      ],
      "text/plain": [
       "   movie_id                                     title  \\\n",
       "0     19995                                    Avatar   \n",
       "1       285  Pirates of the Caribbean: At World's End   \n",
       "2    206647                                   Spectre   \n",
       "3     49026                     The Dark Knight Rises   \n",
       "4     49529                               John Carter   \n",
       "\n",
       "                                                cast  \\\n",
       "0  [{\"cast_id\": 242, \"character\": \"Jake Sully\", \"...   \n",
       "1  [{\"cast_id\": 4, \"character\": \"Captain Jack Spa...   \n",
       "2  [{\"cast_id\": 1, \"character\": \"James Bond\", \"cr...   \n",
       "3  [{\"cast_id\": 2, \"character\": \"Bruce Wayne / Ba...   \n",
       "4  [{\"cast_id\": 5, \"character\": \"John Carter\", \"c...   \n",
       "\n",
       "                                                crew  \n",
       "0  [{\"credit_id\": \"52fe48009251416c750aca23\", \"de...  \n",
       "1  [{\"credit_id\": \"52fe4232c3a36847f800b579\", \"de...  \n",
       "2  [{\"credit_id\": \"54805967c3a36829b5002c41\", \"de...  \n",
       "3  [{\"credit_id\": \"52fe4781c3a36847f81398c3\", \"de...  \n",
       "4  [{\"credit_id\": \"52fe479ac3a36847f813eaa3\", \"de...  "
      ]
     },
     "execution_count": 5,
     "metadata": {},
     "output_type": "execute_result"
    }
   ],
   "source": [
    "# Load the data\n",
    "file_path = 'tmdb_5000_credits.csv'\n",
    "df = load_data(file_path)\n",
    "\n",
    "# Display the first few rows\n",
    "df.head()\n"
   ]
  },
  {
   "cell_type": "code",
   "execution_count": 6,
   "id": "119ab9ab-15b1-4983-9d2f-172b7ce07e44",
   "metadata": {},
   "outputs": [
    {
     "name": "stdout",
     "output_type": "stream",
     "text": [
      "Defaulting to user installation because normal site-packages is not writeable\n",
      "Requirement already satisfied: ipywidgets in /home/ashu/.local/lib/python3.9/site-packages (8.1.5)\n",
      "Requirement already satisfied: traitlets>=4.3.1 in /home/ashu/.local/lib/python3.9/site-packages (from ipywidgets) (5.14.3)\n",
      "Requirement already satisfied: widgetsnbextension~=4.0.12 in /home/ashu/.local/lib/python3.9/site-packages (from ipywidgets) (4.0.13)\n",
      "Requirement already satisfied: comm>=0.1.3 in /home/ashu/.local/lib/python3.9/site-packages (from ipywidgets) (0.2.2)\n",
      "Requirement already satisfied: ipython>=6.1.0 in /home/ashu/.local/lib/python3.9/site-packages (from ipywidgets) (8.18.1)\n",
      "Requirement already satisfied: jupyterlab-widgets~=3.0.12 in /home/ashu/.local/lib/python3.9/site-packages (from ipywidgets) (3.0.13)\n",
      "Requirement already satisfied: decorator in /home/ashu/.local/lib/python3.9/site-packages (from ipython>=6.1.0->ipywidgets) (5.1.1)\n",
      "Requirement already satisfied: typing-extensions in /home/ashu/.local/lib/python3.9/site-packages (from ipython>=6.1.0->ipywidgets) (4.12.2)\n",
      "Requirement already satisfied: stack-data in /home/ashu/.local/lib/python3.9/site-packages (from ipython>=6.1.0->ipywidgets) (0.6.3)\n",
      "Requirement already satisfied: exceptiongroup in /home/ashu/.local/lib/python3.9/site-packages (from ipython>=6.1.0->ipywidgets) (1.2.2)\n",
      "Requirement already satisfied: prompt-toolkit<3.1.0,>=3.0.41 in /home/ashu/.local/lib/python3.9/site-packages (from ipython>=6.1.0->ipywidgets) (3.0.47)\n",
      "Requirement already satisfied: jedi>=0.16 in /home/ashu/.local/lib/python3.9/site-packages (from ipython>=6.1.0->ipywidgets) (0.19.1)\n",
      "Requirement already satisfied: matplotlib-inline in /home/ashu/.local/lib/python3.9/site-packages (from ipython>=6.1.0->ipywidgets) (0.1.7)\n",
      "Requirement already satisfied: pexpect>4.3 in /usr/lib/python3.9/site-packages (from ipython>=6.1.0->ipywidgets) (4.8.0)\n",
      "Requirement already satisfied: pygments>=2.4.0 in /home/ashu/.local/lib/python3.9/site-packages (from ipython>=6.1.0->ipywidgets) (2.18.0)\n",
      "Requirement already satisfied: parso<0.9.0,>=0.8.3 in /home/ashu/.local/lib/python3.9/site-packages (from jedi>=0.16->ipython>=6.1.0->ipywidgets) (0.8.4)\n",
      "Requirement already satisfied: wcwidth in /home/ashu/.local/lib/python3.9/site-packages (from prompt-toolkit<3.1.0,>=3.0.41->ipython>=6.1.0->ipywidgets) (0.2.13)\n",
      "Requirement already satisfied: pure-eval in /home/ashu/.local/lib/python3.9/site-packages (from stack-data->ipython>=6.1.0->ipywidgets) (0.2.3)\n",
      "Requirement already satisfied: asttokens>=2.1.0 in /home/ashu/.local/lib/python3.9/site-packages (from stack-data->ipython>=6.1.0->ipywidgets) (2.4.1)\n",
      "Requirement already satisfied: executing>=1.2.0 in /home/ashu/.local/lib/python3.9/site-packages (from stack-data->ipython>=6.1.0->ipywidgets) (2.0.1)\n",
      "Requirement already satisfied: six>=1.12.0 in /usr/lib/python3.9/site-packages (from asttokens>=2.1.0->stack-data->ipython>=6.1.0->ipywidgets) (1.15.0)\n",
      "\u001b[33mWARNING: Value for scheme.platlib does not match. Please report this to <https://github.com/pypa/pip/issues/10151>\n",
      "distutils: /home/ashu/.local/lib/python3.9/site-packages\n",
      "sysconfig: /home/ashu/.local/lib64/python3.9/site-packages\u001b[0m\n",
      "\u001b[33mWARNING: Additional context:\n",
      "user = True\n",
      "home = None\n",
      "root = None\n",
      "prefix = None\u001b[0m\n",
      "Note: you may need to restart the kernel to use updated packages.\n"
     ]
    }
   ],
   "source": [
    "pip install ipywidgets\n"
   ]
  },
  {
   "cell_type": "code",
   "execution_count": 7,
   "id": "b2154603-b28f-4160-bf56-94ea29ed86a0",
   "metadata": {},
   "outputs": [
    {
     "data": {
      "application/vnd.jupyter.widget-view+json": {
       "model_id": "dc2cd049f50d42499f6756d54271a23c",
       "version_major": 2,
       "version_minor": 0
      },
      "text/plain": [
       "Dropdown(description='Select Movie:', options=(('Avatar', 19995), (\"Pirates of the Caribbean: At World's End\",…"
      ]
     },
     "metadata": {},
     "output_type": "display_data"
    },
    {
     "data": {
      "application/vnd.jupyter.widget-view+json": {
       "model_id": "22d62303ad4c4bfd8fc9bbec4f7d5864",
       "version_major": 2,
       "version_minor": 0
      },
      "text/plain": [
       "Button(description='Show Credits', style=ButtonStyle())"
      ]
     },
     "metadata": {},
     "output_type": "display_data"
    }
   ],
   "source": [
    "# Create a dropdown widget with movie titles\n",
    "movie_dropdown = widgets.Dropdown(\n",
    "    options=[(row['title'], row['movie_id']) for _, row in df.iterrows()],\n",
    "    description='Select Movie:',\n",
    "    disabled=False,\n",
    ")\n",
    "\n",
    "# Create a button to fetch movie credits\n",
    "credit_button = Button(description=\"Show Credits\")\n",
    "\n",
    "# Function to display credits when button is clicked\n",
    "def on_button_clicked(b):\n",
    "    clear_output()\n",
    "    display(movie_dropdown, credit_button)\n",
    "    movie_id = movie_dropdown.value\n",
    "    credits = get_movie_credits(movie_id, df)\n",
    "    \n",
    "    print(f\"\\nCredits for movie ID {movie_id}:\")\n",
    "    if credits != \"Movie not found\":\n",
    "        for actor in credits:\n",
    "            print(f\"Name: {actor['name']}, Character: {actor['character']}\")\n",
    "    else:\n",
    "        print(credits)\n",
    "\n",
    "# Attach the button click event to the function\n",
    "credit_button.on_click(on_button_clicked)\n",
    "\n",
    "# Display the dropdown and button\n",
    "display(movie_dropdown, credit_button)\n"
   ]
  },
  {
   "cell_type": "code",
   "execution_count": 10,
   "id": "2bd622a0-d3c6-484d-9be0-c7a3fcdf67c3",
   "metadata": {},
   "outputs": [
    {
     "name": "stdout",
     "output_type": "stream",
     "text": [
      "Defaulting to user installation because normal site-packages is not writeable\n",
      "\u001b[31mERROR: Could not find a version that satisfies the requirement pickle (from versions: none)\u001b[0m\n",
      "\u001b[31mERROR: No matching distribution found for pickle\u001b[0m\n",
      "Note: you may need to restart the kernel to use updated packages.\n"
     ]
    }
   ],
   "source": [
    "pip install pickle"
   ]
  },
  {
   "cell_type": "code",
   "execution_count": 11,
   "id": "0c907510-f0ea-47b2-aeb6-c306bb3014a5",
   "metadata": {},
   "outputs": [
    {
     "name": "stdout",
     "output_type": "stream",
     "text": [
      "Credits saved to credit_cast.pkl\n"
     ]
    }
   ],
   "source": [
    "import pandas as pd\n",
    "import json\n",
    "import pickle  # Import pickle module\n",
    "from ipywidgets import widgets, Button\n",
    "from IPython.display import display, clear_output\n",
    "\n",
    "# Load the data\n",
    "def load_data(filename):\n",
    "    df = pd.read_csv(filename)\n",
    "    return df\n",
    "\n",
    "# Function to get movie credits\n",
    "def get_movie_credits(movie_id, df):\n",
    "    movie = df[df['movie_id'] == movie_id]\n",
    "    if movie.empty:\n",
    "        return \"Movie not found\"\n",
    "    \n",
    "    try:\n",
    "        credits = json.loads(movie['cast'].iloc[0])  # Ensure 'cast' is a valid JSON string\n",
    "        return credits\n",
    "    except json.JSONDecodeError:\n",
    "        return \"Error decoding JSON\"\n",
    "\n",
    "# Function to save credits to a pickle file\n",
    "def save_credits_to_pickle(credits):\n",
    "    file_name = 'credit_cast.pkl'\n",
    "    with open(file_name, 'wb') as f:\n",
    "        pickle.dump(credits, f)\n",
    "    print(f\"Credits saved to {file_name}\")\n",
    "\n",
    "# Load the DataFrame\n",
    "df = load_data('tmdb_5000_credits.csv')\n",
    "\n",
    "# Example usage\n",
    "movie_id = 19995  # Replace with your movie ID\n",
    "credits = get_movie_credits(movie_id, df)\n",
    "\n",
    "# Save credits to a pickle file\n",
    "save_credits_to_pickle(credits)\n"
   ]
  },
  {
   "cell_type": "code",
   "execution_count": 13,
   "id": "3bee2b61-e7d8-4324-8065-f8d5f53152a1",
   "metadata": {},
   "outputs": [],
   "source": [
    "import pickle\n",
    "\n",
    "# Function to load the credits from the Pickle file\n",
    "def load_credits_from_pickle(file_name='credit_cast.pkl'):\n",
    "    with open(file_name, 'rb') as f:\n",
    "        credits = pickle.load(f)\n",
    "    return credits\n"
   ]
  },
  {
   "cell_type": "code",
   "execution_count": 14,
   "id": "7ec12726-fe20-4125-9a32-35840bbc5b3d",
   "metadata": {},
   "outputs": [
    {
     "name": "stdout",
     "output_type": "stream",
     "text": [
      "Loaded credits from 'credit_cast.pkl':\n",
      "Name: Sam Worthington, Character: Jake Sully\n",
      "Name: Zoe Saldana, Character: Neytiri\n",
      "Name: Sigourney Weaver, Character: Dr. Grace Augustine\n",
      "Name: Stephen Lang, Character: Col. Quaritch\n",
      "Name: Michelle Rodriguez, Character: Trudy Chacon\n",
      "Name: Giovanni Ribisi, Character: Selfridge\n",
      "Name: Joel David Moore, Character: Norm Spellman\n",
      "Name: CCH Pounder, Character: Moat\n",
      "Name: Wes Studi, Character: Eytukan\n",
      "Name: Laz Alonso, Character: Tsu'Tey\n",
      "Name: Dileep Rao, Character: Dr. Max Patel\n",
      "Name: Matt Gerald, Character: Lyle Wainfleet\n",
      "Name: Sean Anthony Moran, Character: Private Fike\n",
      "Name: Jason Whyte, Character: Cryo Vault Med Tech\n",
      "Name: Scott Lawrence, Character: Venture Star Crew Chief\n",
      "Name: Kelly Kilgour, Character: Lock Up Trooper\n",
      "Name: James Patrick Pitt, Character: Shuttle Pilot\n",
      "Name: Sean Patrick Murphy, Character: Shuttle Co-Pilot\n",
      "Name: Peter Dillon, Character: Shuttle Crew Chief\n",
      "Name: Kevin Dorman, Character: Tractor Operator / Troupe\n",
      "Name: Kelson Henderson, Character: Dragon Gunship Pilot\n",
      "Name: David Van Horn, Character: Dragon Gunship Gunner\n",
      "Name: Jacob Tomuri, Character: Dragon Gunship Navigator\n",
      "Name: Michael Blain-Rozgay, Character: Suit #1\n",
      "Name: Jon Curry, Character: Suit #2\n",
      "Name: Luke Hawker, Character: Ambient Room Tech\n",
      "Name: Woody Schultz, Character: Ambient Room Tech / Troupe\n",
      "Name: Peter Mensah, Character: Horse Clan Leader\n",
      "Name: Sonia Yee, Character: Link Room Tech\n",
      "Name: Jahnel Curfman, Character: Basketball Avatar / Troupe\n",
      "Name: Ilram Choi, Character: Basketball Avatar\n",
      "Name: Kyla Warren, Character: Na'vi Child\n",
      "Name: Lisa Roumain, Character: Troupe\n",
      "Name: Debra Wilson, Character: Troupe\n",
      "Name: Chris Mala, Character: Troupe\n",
      "Name: Taylor Kibby, Character: Troupe\n",
      "Name: Jodie Landau, Character: Troupe\n",
      "Name: Julie Lamm, Character: Troupe\n",
      "Name: Cullen B. Madden, Character: Troupe\n",
      "Name: Joseph Brady Madden, Character: Troupe\n",
      "Name: Frankie Torres, Character: Troupe\n",
      "Name: Austin Wilson, Character: Troupe\n",
      "Name: Sara Wilson, Character: Troupe\n",
      "Name: Tamica Washington-Miller, Character: Troupe\n",
      "Name: Lucy Briant, Character: Op Center Staff\n",
      "Name: Nathan Meister, Character: Op Center Staff\n",
      "Name: Gerry Blair, Character: Op Center Staff\n",
      "Name: Matthew Chamberlain, Character: Op Center Staff\n",
      "Name: Paul Yates, Character: Op Center Staff\n",
      "Name: Wray Wilson, Character: Op Center Duty Officer\n",
      "Name: James Gaylyn, Character: Op Center Staff\n",
      "Name: Melvin Leno Clark III, Character: Dancer\n",
      "Name: Carvon Futrell, Character: Dancer\n",
      "Name: Brandon Jelkes, Character: Dancer\n",
      "Name: Micah Moch, Character: Dancer\n",
      "Name: Hanniyah Muhammad, Character: Dancer\n",
      "Name: Christopher Nolen, Character: Dancer\n",
      "Name: Christa Oliver, Character: Dancer\n",
      "Name: April Marie Thomas, Character: Dancer\n",
      "Name: Bravita A. Threatt, Character: Dancer\n",
      "Name: Colin Bleasdale, Character: Mining Chief (uncredited)\n",
      "Name: Mike Bodnar, Character: Veteran Miner (uncredited)\n",
      "Name: Matt Clayton, Character: Richard (uncredited)\n",
      "Name: Nicole Dionne, Character: Nav'i (uncredited)\n",
      "Name: Jamie Harrison, Character: Trooper (uncredited)\n",
      "Name: Allan Henry, Character: Trooper (uncredited)\n",
      "Name: Anthony Ingruber, Character: Ground Technician (uncredited)\n",
      "Name: Ashley Jeffery, Character: Flight Crew Mechanic (uncredited)\n",
      "Name: Dean Knowsley, Character: Samson Pilot\n",
      "Name: Joseph Mika-Hunt, Character: Trooper (uncredited)\n",
      "Name: Terry Notary, Character: Banshee (uncredited)\n",
      "Name: Kai Pantano, Character: Soldier (uncredited)\n",
      "Name: Logan Pithyou, Character: Blast Technician (uncredited)\n",
      "Name: Stuart Pollock, Character: Vindum Raah (uncredited)\n",
      "Name: Raja, Character: Hero (uncredited)\n",
      "Name: Gareth Ruck, Character: Ops Centreworker (uncredited)\n",
      "Name: Rhian Sheehan, Character: Engineer (uncredited)\n",
      "Name: T. J. Storm, Character: Col. Quaritch's Mech Suit (uncredited)\n",
      "Name: Jodie Taylor, Character: Female Marine (uncredited)\n",
      "Name: Alicia Vela-Bailey, Character: Ikran Clan Leader (uncredited)\n",
      "Name: Richard Whiteside, Character: Geologist (uncredited)\n",
      "Name: Nikie Zambo, Character: Na'vi (uncredited)\n",
      "Name: Julene Renee, Character: Ambient Room Tech / Troupe\n"
     ]
    }
   ],
   "source": [
    "# Load the saved credits from 'credit_cast.pkl'\n",
    "credits = load_credits_from_pickle()\n",
    "\n",
    "# Display the loaded credits\n",
    "print(\"Loaded credits from 'credit_cast.pkl':\")\n",
    "for actor in credits:\n",
    "    print(f\"Name: {actor['name']}, Character: {actor['character']}\")\n"
   ]
  }
 ],
 "metadata": {
  "kernelspec": {
   "display_name": "Python 3 (ipykernel)",
   "language": "python",
   "name": "python3"
  },
  "language_info": {
   "codemirror_mode": {
    "name": "ipython",
    "version": 3
   },
   "file_extension": ".py",
   "mimetype": "text/x-python",
   "name": "python",
   "nbconvert_exporter": "python",
   "pygments_lexer": "ipython3",
   "version": "3.9.18"
  }
 },
 "nbformat": 4,
 "nbformat_minor": 5
}
